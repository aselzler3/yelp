{
 "cells": [
  {
   "cell_type": "code",
   "execution_count": 2,
   "metadata": {},
   "outputs": [],
   "source": [
    "import pyspark\n",
    "from pyspark.sql import SparkSession\n",
    "import numpy as np\n",
    "import pandas as pd\n",
    "from pyspark.ml.recommendation import ALS\n",
    "from pyspark.sql.types import *\n",
    "import matplotlib.pyplot as plt\n",
    "plt.style.use(\"ggplot\")"
   ]
  },
  {
   "cell_type": "code",
   "execution_count": 3,
   "metadata": {},
   "outputs": [],
   "source": [
    "spark = SparkSession.builder.master(\"local[2]\").getOrCreate()\n",
    "sc = spark.sparkContext"
   ]
  },
  {
   "cell_type": "code",
   "execution_count": 26,
   "metadata": {},
   "outputs": [
    {
     "name": "stdout",
     "output_type": "stream",
     "text": [
      "+---------------+------+\n",
      "|   neighborhood|number|\n",
      "+---------------+------+\n",
      "|           null|    90|\n",
      "|      The Strip|    75|\n",
      "|       Westside|    72|\n",
      "|       Downtown|    54|\n",
      "|  Spring Valley|    47|\n",
      "|      Southeast|    41|\n",
      "|       Eastside|    37|\n",
      "|      Southwest|    27|\n",
      "|      Chinatown|    24|\n",
      "|      Summerlin|    15|\n",
      "|      Northwest|    12|\n",
      "|     Centennial|    10|\n",
      "|     University|     9|\n",
      "|      The Lakes|     6|\n",
      "|        Sunrise|     4|\n",
      "|South Summerlin|     1|\n",
      "|         Anthem|     1|\n",
      "+---------------+------+\n",
      "\n"
     ]
    }
   ],
   "source": [
    "df=spark.read.csv(\"data/yelp_business.csv\", header=True)\n",
    "df.createOrReplaceTempView(\"table\")\n",
    "df = spark.sql('''\n",
    "    select neighborhood, count(*) as number\n",
    "    from table \n",
    "    where city='Las Vegas' and stars>=4.5 and review_count>=60\n",
    "    group by neighborhood\n",
    "    order by number desc\n",
    "    ''')\n",
    "\n",
    "\n",
    "\n",
    "df.show()"
   ]
  },
  {
   "cell_type": "code",
   "execution_count": 28,
   "metadata": {},
   "outputs": [
    {
     "data": {
      "text/plain": [
       "array(Column<b'number'>, dtype=object)"
      ]
     },
     "execution_count": 28,
     "metadata": {},
     "output_type": "execute_result"
    }
   ],
   "source": [
    "np.array(df['number'])"
   ]
  },
  {
   "cell_type": "code",
   "execution_count": null,
   "metadata": {},
   "outputs": [],
   "source": []
  },
  {
   "cell_type": "code",
   "execution_count": null,
   "metadata": {},
   "outputs": [],
   "source": []
  },
  {
   "cell_type": "code",
   "execution_count": null,
   "metadata": {},
   "outputs": [],
   "source": []
  },
  {
   "cell_type": "code",
   "execution_count": null,
   "metadata": {},
   "outputs": [],
   "source": []
  },
  {
   "cell_type": "code",
   "execution_count": null,
   "metadata": {},
   "outputs": [],
   "source": []
  },
  {
   "cell_type": "code",
   "execution_count": null,
   "metadata": {},
   "outputs": [],
   "source": []
  }
 ],
 "metadata": {
  "kernelspec": {
   "display_name": "Python 3",
   "language": "python",
   "name": "python3"
  },
  "language_info": {
   "codemirror_mode": {
    "name": "ipython",
    "version": 3
   },
   "file_extension": ".py",
   "mimetype": "text/x-python",
   "name": "python",
   "nbconvert_exporter": "python",
   "pygments_lexer": "ipython3",
   "version": "3.6.4"
  }
 },
 "nbformat": 4,
 "nbformat_minor": 2
}
